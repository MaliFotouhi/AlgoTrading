import numpy as np
import pandas as pd
import requests as req
import math
from scipy import stats
import xlsxwriter as xls

stocks =pd.read_csv('10_crypto_sign.csv')
print(stocks)

symbol = 'ETHEUR'
interval = '1m'
#api_url = f'https://api.binance.com/api/v3/klines?symbol={symbol}&interval={interval}'
api_url = f'https://api.binance.com/api/v3/ticker/24hr?symbol={symbol}'
data = req.get(api_url).json()
print(data)

i=0 
for i in (range(len(data[i]))) :
    symbol = symbol
    priceChange =data[i]['priceChange'] 
    priceChangePercent = data[i]['priceChangePercent'] 
    weightedAvgPrice   = data[i]['weightedAvgPrice']  
    prevClosePrice     = data[i]['prevClosePrice']  
    openTime           = data[i]['openTime']  
    closeTime          = data[i]['closeTime']  


#for i in (range(len(data[i]))) :
#    open=data[i][0]
#    high=data[i][1]
#    close=data[i][2]
#    volume=data[i][3]
#    close_time=data[i][4]
#    quote_asset_volume=data[i][5]
#    number_of_trades=data[i][6]
#    taker_buy_base_asset_volume=data[i][7]
#    taker_buy_uote_asset_volume=data[i][8]
#    ignore=data[i][9]

print(symbol,priceChange)


my_columns = ['symbol','priceChange','priceChangePercent'
              ,'weightedAvgPrice','prevClosePrice'
              ,'openTime','closeTime' ,'number of share to buy']
#final_data_frame = pd.DataFrame([[0,0,0,0,0,0,0]],columns = my_columns)
final_data_frame = pd.DataFrame(columns = my_columns)
final_data_frame

i=0
final_data_frame = pd.DataFrame(columns = my_columns)
for stock in stocks['Ticker'] : 
    api_url = f'https://api.binance.com/api/v3/ticker/24hr?symbol={symbol}'
    data = req.get(api_url).json()
    final_data_frame = final_data_frame.append(
        pd.Series(
            [
             stock,
             data['priceChange'],
             data['priceChangePercent'] ,
             data['weightedAvgPrice'],
             data['prevClosePrice'],
             data['openTime'],
             data['closeTime'],
             0
            ],
            index = my_columns),
        ignore_index= True
        )
print(final_data_frame)

def chunks(lst,n):
    for i in range(0,len(lst),n):
        yield lst[i:i+n]

symbol_groups = list(chunks(stocks['Ticker'],2))
for i in range(0, len(symbol_groups)):
    print(symbol_groups[i])
final_data_frame = pd.DataFrame(columns = my_columns)
for symbol in range(21):
    batch_api_call_url = f'https://api.binance.com/api/v3/ticker/24hr'
    data= req.get(batch_api_call_url).json()
    for symbol in range(21):
        final_data_frame =     final_data_frame.append(
        pd.Series(
        [
            data[i]['symbol'],
            data[i]['priceChange'],
            data[i]['priceChangePercent'],
            data[i]['weightedAvgPrice'],
            data[i]['prevClosePrice'],
            data[i]['openTime'],
            data[i]['closeTime'],
            0
        ],
            index = my_columns),
        ignore_index= True
    )
    

symbol_groups = list(chunks(stocks['Ticker'],1))
symbol_strings= []
for i in range(0, len(symbol_groups)):
    symbol_strings.append(','.join(symbol_groups[i]))
    #print (symbol_strings[i])
final_data_frame = pd.DataFrame(columns = my_columns)

for symbol_string in symbol_strings:
    #print (symbol_string)
    
    batch_api_call_url = f'https://api.binance.com/api/v3/ticker/24hr?symbol={symbol_string}'
    #data = req.get(api_url).json()
    
    data= req.get(batch_api_call_url).json()
    #print (data)
    
    for symbol in symbol_string.split(','):
        final_data_frame = final_data_frame.append(
        pd.Series(
        [
            symbol,
            data['priceChange'],
            data['priceChangePercent'],
            data['weightedAvgPrice'],
            data['prevClosePrice'],
            data['openTime'],
            data['closeTime'],
            0
        ],
            index = my_columns),

        ignore_index= True

    )

final_data_frame

position_size = input('Enter the value of your portfolio : ')

try: 
    val = float (position_size)
    print (val)
except ValueError:
    print ("That's not a number !\nPlease try again : ")
    position_size = input('Enter the value of your position : ')
    val = float(position_size)

position_size = val/len(final_data_frame.index)
print(position_size)
for i in range(0, len(final_data_frame.index)):
    final_data_frame.loc[i,'Number of share to buy'] = math.floor(position_size/500)

final_data_frame    
#number_of_BTCEUR_shares = portfolio_size/501
#print (math.floor(number_of_BTCEUR_shares))



